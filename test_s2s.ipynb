{
 "cells": [
  {
   "cell_type": "code",
   "execution_count": 12,
   "metadata": {
    "collapsed": false
   },
   "outputs": [],
   "source": [
    "from chainer import Chain, Variable, cuda, functions, links, optimizer, optimizers, serializers\n",
    "from chainer import Link, Chain, ChainList\n",
    "import chainer.functions as F \n",
    "import chainer.links as L\n",
    "import numpy as np\n",
    "import pickle\n",
    "import MeCab\n",
    "import traceback\n",
    "from LSTM_s2s import LSTM_Encoder, LSTM_Decoder, Seq2Seq\n",
    "\n",
    "EMBED_SIZE = 300\n",
    "HIDDEN_SIZE = 150\n",
    "TRAIN_BATCH_SIZE = 40\n",
    "TEST_BATCH_SIZE = 1\n",
    "\n",
    "dictpath = \"/Users/daisuke/WSL/LSTM/word_id_dict.pickle\"\n",
    "inputpath = \"/Users/daisuke/WSL/LSTM/output/S2Smodel_EMBED%s_HIDDEN%s_BATCH%s_EPOCH%s.npz\"\n",
    "inputpath2 = \"/Users/daisuke/WSL/LSTM/output_StoU/S2Smodel_EMBED%s_HIDDEN%s_BATCH%s_EPOCH%s.npz\"\n",
    "inputpath3 = \"/Users/daisuke/WSL/LSTM/output_annotate/S2Smodel_EMBED%s_HIDDEN%s_BATCH%s_EPOCH%s.npz\"\n",
    "inputpath4 = \"/Users/daisuke/WSL/LSTM/output_mix/S2Smodel_EMBED%s_HIDDEN%s_BATCH%s_EPOCH%s.npz\""
   ]
  },
  {
   "cell_type": "code",
   "execution_count": 13,
   "metadata": {
    "collapsed": false
   },
   "outputs": [],
   "source": [
    "def test(inputw, epoch, path):\n",
    "    \n",
    "    dictf = open(dictpath, 'rb')\n",
    "    w_id_dict = pickle.load(dictf)\n",
    "    id_w_dict = {v:k for k, v in w_id_dict.items()}\n",
    "    \n",
    "    vocab_size = len(w_id_dict)\n",
    "    \n",
    "    model = Seq2Seq(vocab_size = vocab_size,\n",
    "                    embed_size=EMBED_SIZE,\n",
    "                    hidden_size=HIDDEN_SIZE,\n",
    "                    batch_size=TEST_BATCH_SIZE)\n",
    "    \n",
    "    inputfile = path%(EMBED_SIZE, HIDDEN_SIZE, TRAIN_BATCH_SIZE, epoch)\n",
    "    serializers.load_npz(inputfile, model)\n",
    "    \n",
    "    mt = MeCab.Tagger(\"-Ochasen\")\n",
    "    mt.parse('')\n",
    "    node = mt.parseToNode(inputw)\n",
    "    inputid_list = []\n",
    "    while node:\n",
    "        if node.surface == '':\n",
    "            node = node.next\n",
    "            continue\n",
    "        inputid_list.insert(0,w_id_dict[node.surface])\n",
    "        node = node.next\n",
    "        \n",
    "    enc_words = [Variable(np.array([row], dtype='int32')) for row in inputid_list]\n",
    "    model.encode(enc_words)\n",
    "    t = Variable(np.array([0], dtype='int32'))\n",
    "    \n",
    "    count = 0\n",
    "    talk = \"\"\n",
    "    while count < 20:\n",
    "        y = model.decode(t)\n",
    "        y_list = list(y[0].data)\n",
    "        y_max = y_list.index(max(y_list))\n",
    "        \n",
    "        if id_w_dict[y_max] == 'EOF':\n",
    "            break\n",
    "        \n",
    "        t = Variable(np.array([y_max], dtype='int32'))\n",
    "        #print(id_w_dict[y_max], end=' ')\n",
    "        talk += id_w_dict[y_max]\n",
    "        \n",
    "        count += 1\n",
    "    #print()\n",
    "    return talk\n"
   ]
  },
  {
   "cell_type": "markdown",
   "metadata": {},
   "source": [
    "### 人の発話とシステムの応答を対話としたモデルのテスト  "
   ]
  },
  {
   "cell_type": "code",
   "execution_count": 17,
   "metadata": {
    "collapsed": false
   },
   "outputs": [
    {
     "name": "stdout",
     "output_type": "stream",
     "text": [
      "こんにちは\n",
      "1 うん\n",
      "2 こん\n",
      "3 こんにちはこんは\n",
      "4 こんあり\n",
      "5 こんにちはこんにちはこんにちは\n",
      "6 こんにちはこんにちはこんにちは\n",
      "7 こんにちはこんにちはこんにちは\n",
      "8 こんにちはこんにちはこんにちは\n",
      "9 こんにちはこんにちはこんにちは\n",
      "10 こんにちはこんにちは\n"
     ]
    }
   ],
   "source": [
    "if __name__ == \"__main__\":\n",
    "    try:\n",
    "        utterance = \"こんにちは\"\n",
    "        print(utterance)\n",
    "        for i in range(10):\n",
    "            print(i+1,end=\" \")\n",
    "            print(test(utterance, i+1, inputpath))\n",
    "    \n",
    "    except Exception:\n",
    "        traceback.print_exc()"
   ]
  },
  {
   "cell_type": "markdown",
   "metadata": {},
   "source": [
    "### システムの発話と人の応答を対話としたモデルのテスト  "
   ]
  },
  {
   "cell_type": "code",
   "execution_count": 18,
   "metadata": {
    "collapsed": false
   },
   "outputs": [
    {
     "name": "stdout",
     "output_type": "stream",
     "text": [
      "こんにちは\n",
      "1 そうですね。\n",
      "2 何かな\n",
      "3 \n",
      "4 。\n",
      "5 。\n",
      "6 なんだ。\n",
      "7 なんだ。\n",
      "8 なんだよね\n",
      "9 なんだぜ\n",
      "10 なんだ。\n"
     ]
    }
   ],
   "source": [
    "if __name__ == \"__main__\":\n",
    "    try:\n",
    "        utterance = \"こんにちは\"\n",
    "        print(utterance)\n",
    "        for i in range(10):\n",
    "            print(i+1,end=\" \")\n",
    "            print(test(utterance, i+1, inputpath2))\n",
    "    \n",
    "    except Exception:\n",
    "        traceback.print_exc()"
   ]
  },
  {
   "cell_type": "markdown",
   "metadata": {},
   "source": [
    "### 人の発話とシステムの応答を対話としたモデルのテスト（アノテーション処理）    "
   ]
  },
  {
   "cell_type": "code",
   "execution_count": null,
   "metadata": {
    "collapsed": false
   },
   "outputs": [
    {
     "name": "stdout",
     "output_type": "stream",
     "text": [
      "こんにちは\n",
      "1 そうです。\n",
      "2 うん\n",
      "3 うん\n",
      "4 うん\n",
      "5 こんにちはうん\n",
      "6 こんにちはね\n",
      "7 こんにちはね"
     ]
    }
   ],
   "source": [
    "if __name__ == \"__main__\":\n",
    "    try:\n",
    "        utterance = \"こんにちは\"\n",
    "        print(utterance)\n",
    "        for i in range(10):\n",
    "            print(i+1,end=\" \")\n",
    "            print(test(utterance, i+1, inputpath3))\n",
    "    \n",
    "    except Exception:\n",
    "        traceback.print_exc()"
   ]
  },
  {
   "cell_type": "code",
   "execution_count": null,
   "metadata": {
    "collapsed": false
   },
   "outputs": [
    {
     "name": "stdout",
     "output_type": "stream",
     "text": [
      "S'10: サッカーは大好きですね\n",
      "U'10: サッカーはどうですか。\n",
      "S'10: サッカーは楽しいですね\n",
      "U'10: サッカーは楽しいですね\n",
      "S'10: サッカーは楽しいですね\n",
      "U'10: サッカーは楽しいですね\n",
      "S'1: そうですね。\n",
      "U'1: そうです。\n",
      "S'1: そうです。\n",
      "U'1: そうです。\n",
      "S'1: そうです。\n",
      "U'2: そうです。\n",
      "S'2: そうです。\n",
      "U'3: そうですよ。\n",
      "S'3: うん\n",
      "U'3: そうです。\n",
      "S'3: そうですよ。\n",
      "U'4: そうですよね。\n",
      "S'3: うん\n",
      "U'4: そうです。\n",
      "S'4: そうですよ。\n",
      "U'5: そうですよ\n",
      "S'5: そうですよ\n",
      "U'5: そうですよ\n",
      "S'5: そうですよ\n",
      "U'6: そうですよ\n",
      "S'6: そうですよ"
     ]
    }
   ],
   "source": [
    "if __name__ == \"__main__\":\n",
    "    utterance = \"サッカーはお好きですか。\"\n",
    "    i_s = 10\n",
    "    i_u = 10\n",
    "    count = 0\n",
    "    conv_max = 30\n",
    "    \n",
    "    conv_s_log = []\n",
    "    conv_u_log = []\n",
    "    \n",
    "    while True:\n",
    "        print(\"S'{}:\".format(i_s),end=\" \")\n",
    "        utterance = test(utterance, i_s, inputpath3)\n",
    "        if utterance in conv_s_log:\n",
    "            i_s = i_s+1 if i_s < 10 else 1\n",
    "        conv_s_log.append(utterance)\n",
    "        \n",
    "        print(utterance)\n",
    "        print(\"U'{}:\".format(i_u),end=\" \")\n",
    "        utterance = test(utterance, i_u, inputpath3)\n",
    "        if utterance in conv_u_log:\n",
    "            i_u = i_u+1 if i_u < 10 else 1\n",
    "        conv_u_log.append(utterance)\n",
    "        \n",
    "        print(utterance)\n",
    "        \n",
    "        count += 1\n",
    "        if count > 30:\n",
    "            break\n",
    "        "
   ]
  },
  {
   "cell_type": "code",
   "execution_count": null,
   "metadata": {
    "collapsed": true
   },
   "outputs": [],
   "source": []
  }
 ],
 "metadata": {
  "kernelspec": {
   "display_name": "Python 3",
   "language": "python",
   "name": "python3"
  },
  "language_info": {
   "codemirror_mode": {
    "name": "ipython",
    "version": 3
   },
   "file_extension": ".py",
   "mimetype": "text/x-python",
   "name": "python",
   "nbconvert_exporter": "python",
   "pygments_lexer": "ipython3",
   "version": "3.5.3"
  }
 },
 "nbformat": 4,
 "nbformat_minor": 0
}
